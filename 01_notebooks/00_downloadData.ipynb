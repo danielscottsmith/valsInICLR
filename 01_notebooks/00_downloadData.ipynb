{
 "cells": [
  {
   "cell_type": "markdown",
   "id": "a886a00f",
   "metadata": {},
   "source": [
    "# Goals"
   ]
  },
  {
   "cell_type": "markdown",
   "id": "c46f586f",
   "metadata": {},
   "source": [
    "# Libraries"
   ]
  },
  {
   "cell_type": "code",
   "execution_count": 1,
   "id": "ecbe9718",
   "metadata": {
    "execution": {
     "iopub.execute_input": "2024-01-24T19:10:25.505012Z",
     "iopub.status.busy": "2024-01-24T19:10:25.504691Z",
     "iopub.status.idle": "2024-01-24T19:10:27.571567Z",
     "shell.execute_reply": "2024-01-24T19:10:27.570389Z",
     "shell.execute_reply.started": "2024-01-24T19:10:25.504976Z"
    },
    "tags": []
   },
   "outputs": [],
   "source": [
    "import openreview\n",
    "import csv\n",
    "import pandas as pd\n",
    "import csv\n",
    "from tqdm import tqdm\n",
    "import datetime\n",
    "import json\n",
    "import os\n",
    "from datetime import datetime\n",
    "import numpy as np"
   ]
  },
  {
   "cell_type": "markdown",
   "id": "c2b6f37f",
   "metadata": {},
   "source": [
    "# Globals"
   ]
  },
  {
   "cell_type": "code",
   "execution_count": 2,
   "id": "fd52bcae",
   "metadata": {
    "execution": {
     "iopub.execute_input": "2024-01-24T19:10:27.573104Z",
     "iopub.status.busy": "2024-01-24T19:10:27.572692Z",
     "iopub.status.idle": "2024-01-24T19:10:27.578279Z",
     "shell.execute_reply": "2024-01-24T19:10:27.577228Z",
     "shell.execute_reply.started": "2024-01-24T19:10:27.573078Z"
    },
    "tags": []
   },
   "outputs": [],
   "source": [
    "DIR = os.path.dirname(os.getcwd()) + \"/\"\n",
    "OUT = DIR + \"00_rawData/\""
   ]
  },
  {
   "cell_type": "code",
   "execution_count": 3,
   "id": "b7858425",
   "metadata": {},
   "outputs": [
    {
     "data": {
      "text/plain": [
       "'/home/jupyter/sandbox/valsInICLR/00_rawData/'"
      ]
     },
     "execution_count": 3,
     "metadata": {},
     "output_type": "execute_result"
    }
   ],
   "source": [
    "OUT"
   ]
  },
  {
   "cell_type": "code",
   "execution_count": 4,
   "id": "01957ae6",
   "metadata": {},
   "outputs": [],
   "source": [
    "ICLR_FIELDS ={\n",
    "    2018 : {\n",
    "        \"decision\": \"decision\",\n",
    "        \"reviewer_id\": \"AnonReviewer\",\n",
    "        \"rating\": \"rating\",\n",
    "        \"text\": [\"review\"],\n",
    "    }, \n",
    "    2019: {\n",
    "        \"decision\": \"recommendation\",\n",
    "        \"reviewer_id\": \"AnonReviewer\",\n",
    "        \"rating\": \"rating\",\n",
    "        \"text\": [\"review\"],\n",
    "    },\n",
    "    2020: {\n",
    "        \"decision\": \"decision\",\n",
    "        \"reviewer_id\": \"AnonReviewer\",\n",
    "        \"rating\": \"rating\",\n",
    "        \"text\": [\"review\"],\n",
    "    },\n",
    "    2021: {\n",
    "        \"decision\": \"decision\",\n",
    "        \"reviewer_id\": \"AnonReviewer\",\n",
    "        \"rating\": \"rating\",\n",
    "        \"text\": [\"review\"],\n",
    "    },\n",
    "    2022: {\n",
    "        \"decision\": \"decision\",\n",
    "        \"reviewer_id\": \"Reviewer_\",\n",
    "        \"rating\": \"recommendation\",\n",
    "        \"text\": ['summary_of_the_paper', \n",
    "                 'main_review', \n",
    "                 'summary_of_the_review', \n",
    "                 'correctness', \n",
    "                 'technical_novelty_and_significance', \n",
    "                 'empirical_novelty_and_significance'\n",
    "                ],\n",
    "    },\n",
    "    2023: {\n",
    "        \"decision\": \"decision\",\n",
    "        \"reviewer_id\": \"Reviewer_\",\n",
    "        \"rating\": \"recommendation\",\n",
    "        \"text\": ['summary_of_the_paper', \n",
    "                 'strength_and_weaknesses', \n",
    "                 'clarity,_quality,_novelty_and_reproducibility', \n",
    "                 'summary_of_the_review', \n",
    "                 'correctness', \n",
    "                 'technical_novelty_and_significance', \n",
    "                 'empirical_novelty_and_significance'\n",
    "                ],\n",
    "    },\n",
    "    2024: {\n",
    "        \"decision\": \"decision\",\n",
    "        \"reviewer_id\": \"Reviewer_\",\n",
    "        \"rating\": \"recommendation\",\n",
    "        \"text\": ['summary', 'strengths', 'weaknesses', 'questions'],\n",
    "    }\n",
    "}"
   ]
  },
  {
   "cell_type": "markdown",
   "id": "5db14572",
   "metadata": {},
   "source": [
    "## Public ICLR data from API\n",
    "We'll use the public reviews from the API to get the final outcome of the manuscripts across the years. In a previous iteration, we also used reviewers' texts and ratings from the API but in this new version we'll use pre-discussion data that do not get changed in response to other reviewers and ACs."
   ]
  },
  {
   "cell_type": "markdown",
   "id": "cae50bbc",
   "metadata": {},
   "source": [
    "## 2018–2023"
   ]
  },
  {
   "cell_type": "code",
   "execution_count": 5,
   "id": "11329c9a",
   "metadata": {},
   "outputs": [],
   "source": [
    "def get_iclr_data(out_csv_path, fields):\n",
    "    \"\"\"\n",
    "    Takes a dict with API object keys and returns a PDF and\n",
    "    Writes a json file containing all relevant review fields\n",
    "    For specified ICLR years\n",
    "    \"\"\"\n",
    "    \n",
    "    # Create map of API request links\n",
    "    INVITATION_MAP = {year: f\"ICLR.cc/{year}/Conference/-/Blind_Submission\" for year in fields.keys()}\n",
    "    \n",
    "    # Initialize OpenReview client\n",
    "    GUEST_CLIENT = openreview.Client(\n",
    "    baseurl='https://api.openreview.net',\n",
    "    username=open('daniels_info.txt', 'r').readlines()[0].strip(),\n",
    "    password=open('daniels_info.txt', 'r').readlines()[1].strip()\n",
    "    )\n",
    "\n",
    "    # Prepare for JSON writing\n",
    "    rows = []\n",
    "\n",
    "    # Get reviews for all manuscripts\n",
    "    for year, invitation in INVITATION_MAP.items():\n",
    "        forum_notes = list(openreview.tools.iterget_notes(GUEST_CLIENT, invitation=invitation))\n",
    "        \n",
    "        for forum_note in tqdm(forum_notes, desc=f\"Parsing {year}\"):\n",
    "            forum_id = forum_note.id\n",
    "            forum_forum = forum_note.forum\n",
    "            assert forum_id == forum_forum\n",
    "            \n",
    "            # loop thru 'notes', which contain reviews,\n",
    "            # decisions, and comment threads\n",
    "            reviews = GUEST_CLIENT.get_notes(forum=forum_id)\n",
    "            decision = ''\n",
    "            for review in reviews:\n",
    "                # Capture decision when present\n",
    "                if fields[year]['decision'] in review.content:\n",
    "                    decision = review.content[fields[year]['decision']]\n",
    "             \n",
    "                # Process actual review notes; exclude notes that\n",
    "                # contain non-review keys\n",
    "                flags = set([\"authorids\", fields[year]['decision'], \"comment\", \"withdrawal confirmation\"])\n",
    "                keys = set(review.content.keys())\n",
    "                if len(keys.intersection(flags)) == 0:\n",
    "                    review_content = review.content\n",
    "                    reviewer = fields[year]['reviewer_id'] + review.signatures[0].split(fields[year]['reviewer_id'])[-1]\n",
    "                    reviewer_id = forum_id + \"&&\" + review.signatures[0].split(fields[year]['reviewer_id'])[-1]\n",
    "                    text = \" \".join([review_content[field] for field in fields[year][\"text\"]])\n",
    "                    public_rating = int(review_content[fields[year]['rating']].split(\":\")[0])\n",
    "                    rows.append([year, forum_id, reviewer, reviewer_id, text, public_rating, decision])\n",
    "    \n",
    "    df = pd.DataFrame(rows, columns=['year', 'forum', 'reviewer', 'reviewer_id', 'review', 'rating', 'decision'])\n",
    "    df.to_pickle(out_csv_path)\n",
    "    return df"
   ]
  },
  {
   "cell_type": "code",
   "execution_count": 6,
   "id": "0d07a834",
   "metadata": {},
   "outputs": [
    {
     "name": "stderr",
     "output_type": "stream",
     "text": [
      "Parsing 2018: 100%|██████████| 930/930 [00:56<00:00, 16.36it/s]\n",
      "Getting Notes: 100%|█████████▉| 1417/1419 [00:00<00:00, 5261.34it/s]\n",
      "Parsing 2019: 100%|██████████| 1419/1419 [01:28<00:00, 16.00it/s]\n",
      "Getting Notes: 100%|█████████▉| 2210/2213 [00:00<00:00, 3863.15it/s]\n",
      "Parsing 2020: 100%|██████████| 2213/2213 [02:14<00:00, 16.43it/s]\n",
      "Getting Notes: 100%|█████████▉| 2591/2594 [00:00<00:00, 3777.50it/s]\n",
      "Parsing 2021: 100%|██████████| 2594/2594 [02:43<00:00, 15.83it/s]\n",
      "Getting Notes: 100%|█████████▉| 2616/2619 [00:00<00:00, 3850.50it/s]\n",
      "Parsing 2022: 100%|██████████| 2619/2619 [02:48<00:00, 15.54it/s]\n",
      "Getting Notes: 100%|█████████▉| 3794/3798 [00:01<00:00, 3243.30it/s]\n",
      "Parsing 2023: 100%|██████████| 3798/3798 [04:04<00:00, 15.54it/s]\n",
      "Parsing 2024: 0it [00:00, ?it/s]\n"
     ]
    }
   ],
   "source": [
    "iclr_2018_2023 = get_iclr_data(OUT+\"iclr_2018_2023.pkl\", ICLR_FIELDS)"
   ]
  },
  {
   "cell_type": "markdown",
   "id": "cf721041",
   "metadata": {},
   "source": [
    "## 2024"
   ]
  },
  {
   "cell_type": "code",
   "execution_count": 7,
   "id": "e2262770",
   "metadata": {},
   "outputs": [
    {
     "name": "stderr",
     "output_type": "stream",
     "text": [
      "Getting V2 Notes: 100%|█████████▉| 7396/7404 [00:13<00:00, 554.19it/s]\n"
     ]
    }
   ],
   "source": [
    "client2 = openreview.api.OpenReviewClient(\n",
    "baseurl='https://api2.openreview.net',\n",
    "username=open('daniels_info.txt', 'r').readlines()[0].strip(),\n",
    "password=open('daniels_info.txt', 'r').readlines()[1].strip(),\n",
    ")\n",
    "year = 2024\n",
    "venue_id = f\"ICLR.cc/{year}/Conference\"\n",
    "venue_group_settings = client2.get_group(venue_id).content\n",
    "submission_invitation = venue_group_settings['submission_id']['value']\n",
    "submissions = client2.get_all_notes(\n",
    "    invitation=submission_invitation,\n",
    "    details='directReplies'\n",
    ")\n",
    "decision_invitation_name = venue_group_settings['decision_name']['value']\n",
    "review_invitation_name = venue_group_settings['review_name']['value']"
   ]
  },
  {
   "cell_type": "code",
   "execution_count": 8,
   "id": "452aa379",
   "metadata": {},
   "outputs": [],
   "source": [
    "rows = []\n",
    "for submission in submissions:\n",
    "    decision = \"\"\n",
    "    for reply in submission.details['directReplies']:\n",
    "        \n",
    "        # capture decision \n",
    "        if any(invitation.endswith(f'/-/{decision_invitation_name}') for invitation in reply['invitations']):\n",
    "            decision = reply['content']['decision']['value']\n",
    "            \n",
    "        # filter out non-review comments, threads\n",
    "        elif any(invitation.endswith(f'/-/{review_invitation_name}') for invitation in reply['invitations']):\n",
    "            reviewer = reply['signatures'][0].split(\"/\")[-1]\n",
    "            forum = reply['forum']\n",
    "            reviewer_id =  forum + \"&&\" + reviewer \n",
    "            review = \" \".join([reply['content'][field]['value'] for field in ICLR_FIELDS[2024]['text']])\n",
    "            rating = reply['content']['rating']['value']\n",
    "            rows.append([year, forum, reviewer, reviewer_id, review, rating, decision])\n",
    "iclr_2024 = pd.DataFrame(rows, columns=['year', 'forum', 'reviewer', 'reviewer_id', 'review', 'rating', 'decision'])\n",
    "iclr_2024.to_pickle(OUT+\"iclr_2024.pkl\")"
   ]
  },
  {
   "cell_type": "code",
   "execution_count": 9,
   "id": "1edba1a2",
   "metadata": {},
   "outputs": [
    {
     "data": {
      "text/plain": [
       "year\n",
       "2018     2784\n",
       "2019     4332\n",
       "2020     6721\n",
       "2021    10022\n",
       "2022    10210\n",
       "2023    14359\n",
       "2024    28028\n",
       "Name: count, dtype: int64"
      ]
     },
     "execution_count": 9,
     "metadata": {},
     "output_type": "execute_result"
    }
   ],
   "source": [
    "iclr = pd.concat([iclr_2018_2023, iclr_2024], ignore_index=True)\n",
    "iclr['year'].value_counts().sort_index()"
   ]
  },
  {
   "cell_type": "code",
   "execution_count": 10,
   "id": "29056bbd",
   "metadata": {},
   "outputs": [
    {
     "data": {
      "text/plain": [
       "year           0\n",
       "forum          0\n",
       "reviewer       0\n",
       "reviewer_id    0\n",
       "review         0\n",
       "rating         0\n",
       "decision       0\n",
       "dtype: int64"
      ]
     },
     "execution_count": 10,
     "metadata": {},
     "output_type": "execute_result"
    }
   ],
   "source": [
    "iclr.isna().sum()"
   ]
  },
  {
   "cell_type": "code",
   "execution_count": 11,
   "id": "08c79778",
   "metadata": {},
   "outputs": [
    {
     "data": {
      "text/plain": [
       "count    76456.000\n",
       "mean      2947.703\n",
       "std       1657.201\n",
       "min          7.000\n",
       "25%       1848.000\n",
       "50%       2591.000\n",
       "75%       3618.000\n",
       "max      28279.000\n",
       "Name: len, dtype: float64"
      ]
     },
     "execution_count": 11,
     "metadata": {},
     "output_type": "execute_result"
    }
   ],
   "source": [
    "iclr['len'] = iclr['review'].apply(lambda x: len(x.strip()))\n",
    "iclr['len'].describe().round(3)"
   ]
  },
  {
   "cell_type": "code",
   "execution_count": 32,
   "id": "cd0674ac",
   "metadata": {},
   "outputs": [],
   "source": [
    "iclr['decision'] = iclr.groupby('forum')['decision'].transform(lambda x: x.ffill().bfill())\n",
    "iclr['rating'] = iclr['rating'].astype(str)\n",
    "iclr.to_feather(OUT+'iclr_2018_2024.feather')"
   ]
  },
  {
   "cell_type": "code",
   "execution_count": null,
   "id": "5373e85d",
   "metadata": {},
   "outputs": [],
   "source": [
    "prediction_to_label_map = {\n",
    "    \"polarity\": {\n",
    "        0: \"None\",\n",
    "        1: \"(+)\",\n",
    "        2: \"(–)\",\n",
    "        },\n",
    "    \"value\": {\n",
    "        0: \"None\",\n",
    "        1: \"Clarity\", \n",
    "        2: \"Consistency\", \n",
    "        3: \"Novelty\", \n",
    "        4: \"Thoroughness\", \n",
    "        5: \"Accuracy\", \n",
    "        6: \"Replicability\", \n",
    "        }\n",
    "    }"
   ]
  }
 ],
 "metadata": {
  "environment": {
   "name": "r-cpu.3-6.m65",
   "type": "gcloud",
   "uri": "gcr.io/deeplearning-platform-release/r-cpu.3-6:m65"
  },
  "kernelspec": {
   "display_name": "vals2",
   "language": "python",
   "name": "vals2"
  },
  "language_info": {
   "codemirror_mode": {
    "name": "ipython",
    "version": 3
   },
   "file_extension": ".py",
   "mimetype": "text/x-python",
   "name": "python",
   "nbconvert_exporter": "python",
   "pygments_lexer": "ipython3",
   "version": "3.12.1"
  }
 },
 "nbformat": 4,
 "nbformat_minor": 5
}
